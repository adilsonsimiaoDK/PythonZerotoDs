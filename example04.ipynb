{
  "nbformat": 4,
  "nbformat_minor": 0,
  "metadata": {
    "colab": {
      "name": "example04.ipynb",
      "provenance": [],
      "authorship_tag": "ABX9TyPRBGdKK8F/MsDwbZQIAH9O"
    },
    "kernelspec": {
      "name": "python3",
      "display_name": "Python 3"
    },
    "language_info": {
      "name": "python"
    }
  },
  "cells": [
    {
      "cell_type": "code",
      "metadata": {
        "id": "RWiKu2iGtpru"
      },
      "source": [
        "# Libraries\n",
        "import pandas as pd \n",
        "import numpy as np\n",
        "from geopy.geocoders import Nominatim\n",
        "pd.options.display.float_format = '{:.2f}'.format\n",
        "import plotly.express as px\n"
      ],
      "execution_count": 42,
      "outputs": []
    },
    {
      "cell_type": "code",
      "metadata": {
        "id": "9arZlsDlFaMX"
      },
      "source": [
        "def show_dtypes(data):\n",
        "  print(data.dtypes)\n",
        "  return None\n",
        "\n",
        "\n",
        "def show dimensions(data):\n",
        "  print(f'Number of Rows: {data.shape[0]}')\n",
        "  print(f'Number of Columns: {data.shape[1]}')\n",
        "  return None\n",
        "\n",
        "def collect geodata(data, cols):\n",
        "  geolocator = Nominatim(user_agent = 'geopi')\n",
        "  data = data.head(30)\n",
        "  for i in range(len(data)):\n",
        "    print(f'Loop:{i}/ {len(data)}' )\n",
        "    query = data.loc[i, 'lat'].astype(str) + ','+ data.loc[i, 'long'].astype(str)\n",
        "    response = geolocator.reverse(query)\n",
        "    if cols[0] in responde.raw['address']:\n",
        "      data.loc[i, 'house_number']= response.raw['address'][cols[0]]\n",
        "    if cols[1] in responde.raw['address']:\n",
        "      data.loc[i, 'road']= response.raw['address'][cols[1]]\n",
        "  return data"
      ],
      "execution_count": null,
      "outputs": []
    },
    {
      "cell_type": "code",
      "metadata": {
        "id": "ONWJ_JWHt1_R"
      },
      "source": [
        "data = pd.read_csv('kc_house_data.csv')"
      ],
      "execution_count": 21,
      "outputs": []
    },
    {
      "cell_type": "code",
      "metadata": {
        "id": "Ds_JotnRuSNn"
      },
      "source": [
        "# descriptive statistics\n",
        "int_attribute = data.select_dtypes(include=['int', 'float'])\n",
        "# Central tendency - mean and median\n",
        "mean_int = pd.DataFrame(int_attribute.apply(np.mean, axis=0))\n",
        "median_int = pd.DataFrame(int_attribute.apply(np.median, axis=0))\n",
        "# Dispersion - std, min and max\n",
        "std_int = pd.DataFrame(int_attribute.apply(np.std, axis=0))\n",
        "min_int = pd.DataFrame(int_attribute.apply(np.max, axis=0))\n",
        "max_int = pd.DataFrame(int_attribute.apply(np.min, axis=0))\n",
        "data1 = pd.concat([max_int, min_int, mean_int, median_int, std_int], axis=1).reset_index()\n",
        "data1.columns = ['attributes', 'max', 'min', 'mean', 'median','std']\n",
        "\n",
        "\n"
      ],
      "execution_count": 29,
      "outputs": []
    },
    {
      "cell_type": "code",
      "metadata": {
        "id": "eg39fuKK_FtX"
      },
      "source": [
        "data['dormitory_type'] = 'NA'\n",
        "for i in range(len(data)):\n",
        "  if data.loc[i, 'bedrooms'] == 1:\n",
        "    data.loc[i, 'bedrooms_type']= 'studio'\n",
        "  elif data.loc[i, 'bedrooms'] == 2:\n",
        "    data.loc[i, 'bedrooms_type']= 'apartment'\n",
        "  else:\n",
        "    data.loc[i, 'bedrooms_type']= 'house'"
      ],
      "execution_count": 40,
      "outputs": []
    },
    {
      "cell_type": "code",
      "metadata": {
        "id": "tZfEVDO1E00n"
      },
      "source": [
        ""
      ],
      "execution_count": null,
      "outputs": []
    },
    {
      "cell_type": "code",
      "metadata": {
        "id": "txacd2CACFIg"
      },
      "source": [
        "data['level']= 'NA'\n",
        "for i in range(len(data)):\n",
        "  if data.loc[i, 'price'] <= 321950:\n",
        "    data.loc[i, 'level'] = 0\n",
        "  elif (data.loc[i,'price']>= 321950) & (data.loc[i, 'price'] <=450000):\n",
        "    data[i,'level']= 1\n",
        "  elif (data.loc[i, 'price']> 450000) & (data.loc[i, 'price']< 645000):\n",
        "    data.loc[i, 'level'] = 2\n",
        "  else:\n",
        "    data.loc[i,'level'] = 3"
      ],
      "execution_count": null,
      "outputs": []
    },
    {
      "cell_type": "code",
      "metadata": {
        "id": "wcVuWNufE4J6"
      },
      "source": [
        ""
      ],
      "execution_count": null,
      "outputs": []
    }
  ]
}